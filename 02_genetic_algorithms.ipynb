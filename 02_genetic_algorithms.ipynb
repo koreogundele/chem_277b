{
 "cells": [
  {
   "cell_type": "code",
   "execution_count": 1,
   "metadata": {},
   "outputs": [],
   "source": [
    "import numpy as np\n",
    "import pandas as pd"
   ]
  },
  {
   "cell_type": "markdown",
   "metadata": {},
   "source": [
    "##  Use genetic algorithms\n",
    "to determine the maximum of the solution  $$𝑓(𝑥) = −𝑥2 + 8𝑥 + 15$$  over the discrete range of 𝑥-values: [0,15] where 𝑓(𝑥) is the fitness function. Fitness key has been provided. "
   ]
  },
  {
   "cell_type": "code",
   "execution_count": 4,
   "metadata": {},
   "outputs": [],
   "source": [
    "Fitness_key = {'1011': 15, '0011': 22, '1001': 27, '1000': 30, \n",
    "               '0010': 31, '0001': 30, '0000': 27, '1010': 22, \n",
    "               '0100': 15, '1100': 6, '0101': -5, '0110': -18, \n",
    "               '0111': -33, '1101': -50,'1110': -69, '1111': -90}\n",
    "\n",
    "def get_fitness(individual):\n",
    "    \"\"\"\n",
    "    Looks up fitness value of an individual in a population\n",
    "\n",
    "    Parameters\n",
    "    ----------\n",
    "    individual: string\n",
    "        individual's encoding string\n",
    "\n",
    "    Returns\n",
    "    -------\n",
    "    fitness : int\n",
    "        individual's fitness value\n",
    "    \"\"\"\n",
    "    fitness_value = Fitness_key.get(individual)\n",
    "    return fitness_value"
   ]
  },
  {
   "cell_type": "markdown",
   "metadata": {},
   "source": [
    "### 1a\n",
    "We've been provided 2 encodings. Decide which is better based on schema, order and length. Good solutions are those with fitness value >27.\n",
    "\n",
    "ENCODING A\n",
    "Good solutions are: 3, 4, 5\n",
    "Schema here is *0**, with order of 1 and length of 0.\n",
    "\n",
    "ENCODING B\n",
    "Good solutions are: 3, 4, 5.\n",
    "Schema here is 1**1, with order of 2 and length of 3.\n",
    "\n",
    "I will be choosing ENCODING A, because shorter, lower order schema with high fitness will increase exponentially in descendant generations."
   ]
  },
  {
   "cell_type": "markdown",
   "metadata": {},
   "source": [
    "### 1b"
   ]
  },
  {
   "cell_type": "markdown",
   "metadata": {},
   "source": [
    "We draw candidates 10, 1, 15, 6, 0 and 9 from ENCODING A and pair the most fit with the least fit members."
   ]
  },
  {
   "cell_type": "code",
   "execution_count": 3,
   "metadata": {},
   "outputs": [
    {
     "data": {
      "text/html": [
       "<div>\n",
       "<style scoped>\n",
       "    .dataframe tbody tr th:only-of-type {\n",
       "        vertical-align: middle;\n",
       "    }\n",
       "\n",
       "    .dataframe tbody tr th {\n",
       "        vertical-align: top;\n",
       "    }\n",
       "\n",
       "    .dataframe thead th {\n",
       "        text-align: right;\n",
       "    }\n",
       "</style>\n",
       "<table border=\"1\" class=\"dataframe\">\n",
       "  <thead>\n",
       "    <tr style=\"text-align: right;\">\n",
       "      <th></th>\n",
       "      <th>Solution</th>\n",
       "      <th>Fitness</th>\n",
       "      <th>Encoding</th>\n",
       "    </tr>\n",
       "  </thead>\n",
       "  <tbody>\n",
       "    <tr>\n",
       "      <th>Pairing 1a</th>\n",
       "      <td>6</td>\n",
       "      <td>27</td>\n",
       "      <td>0000</td>\n",
       "    </tr>\n",
       "    <tr>\n",
       "      <th>Pairing 1b</th>\n",
       "      <td>15</td>\n",
       "      <td>-90</td>\n",
       "      <td>1111</td>\n",
       "    </tr>\n",
       "    <tr>\n",
       "      <th>Pairing 2a</th>\n",
       "      <td>1</td>\n",
       "      <td>22</td>\n",
       "      <td>0011</td>\n",
       "    </tr>\n",
       "    <tr>\n",
       "      <th>Pairing 2b</th>\n",
       "      <td>10</td>\n",
       "      <td>-5</td>\n",
       "      <td>0101</td>\n",
       "    </tr>\n",
       "    <tr>\n",
       "      <th>Pairing 3a</th>\n",
       "      <td>0</td>\n",
       "      <td>15</td>\n",
       "      <td>1011</td>\n",
       "    </tr>\n",
       "    <tr>\n",
       "      <th>Pairing 3b</th>\n",
       "      <td>9</td>\n",
       "      <td>6</td>\n",
       "      <td>1100</td>\n",
       "    </tr>\n",
       "  </tbody>\n",
       "</table>\n",
       "</div>"
      ],
      "text/plain": [
       "            Solution  Fitness Encoding\n",
       "Pairing 1a         6       27     0000\n",
       "Pairing 1b        15      -90     1111\n",
       "Pairing 2a         1       22     0011\n",
       "Pairing 2b        10       -5     0101\n",
       "Pairing 3a         0       15     1011\n",
       "Pairing 3b         9        6     1100"
      ]
     },
     "execution_count": 3,
     "metadata": {},
     "output_type": "execute_result"
    }
   ],
   "source": [
    "encodingA_data = {'Solution': [6, 15, 1, 10,  0, 9], 'Fitness': [27, -90, 22, -5, 15, 6], 'Encoding': ['0000', '1111', '0011', '0101', '1011', '1100']}\n",
    "F0_df = pd.DataFrame(data=encodingA_data, index=['Pairing 1a', 'Pairing 1b', 'Pairing 2a', 'Pairing 2b','Pairing 3a', 'Pairing 3b'])\n",
    "\n",
    "F0_df"
   ]
  },
  {
   "cell_type": "markdown",
   "metadata": {},
   "source": [
    "### 1c"
   ]
  },
  {
   "cell_type": "code",
   "execution_count": 4,
   "metadata": {},
   "outputs": [],
   "source": [
    "F0_population = F0_df['Encoding'].tolist()\n",
    "\n",
    "def crossover(a, b):\n",
    "    \"\"\"\n",
    "    This function performs a crossover. It exchanges the last three elements of each string.\n",
    "\n",
    "    Parameters\n",
    "    ----------\n",
    "    a,b : string\n",
    "    Parent chromosomes\n",
    "\n",
    "    Returns\n",
    "    -------\n",
    "    offspring : list\n",
    "    Offspring\n",
    "    \"\"\"\n",
    "    #offspring1 = a.replace(a[1:4], b[1:4])\n",
    "    #offspring2= b.replace(b[1:4], a[1:4])\n",
    "\n",
    "    offspring1 = a[0] + b[1:4]\n",
    "    offspring2 = b[0] + a[1:4]\n",
    "\n",
    "    return [offspring1, offspring2]"
   ]
  },
  {
   "cell_type": "code",
   "execution_count": 5,
   "metadata": {},
   "outputs": [
    {
     "data": {
      "text/plain": [
       "['0111', '1000', '0101', '0011', '1100', '1011']"
      ]
     },
     "execution_count": 5,
     "metadata": {},
     "output_type": "execute_result"
    }
   ],
   "source": [
    "# PERFORM CROSSOVER BETWEEN PAIRS\n",
    "Pair1_offspring = crossover(F0_df.iloc[0, 2], F0_df.iloc[1, 2])\n",
    "Pair2_offspring = crossover(F0_df.iloc[2, 2], F0_df.iloc[3, 2])\n",
    "Pair3_offspring = crossover(F0_df.iloc[4, 2], F0_df.iloc[5, 2])\n",
    "\n",
    "F1_population = Pair1_offspring + Pair2_offspring + Pair3_offspring\n",
    "F1_population"
   ]
  },
  {
   "cell_type": "markdown",
   "metadata": {},
   "source": [
    "Pairing 1 has given us two new solutions: 0111 and 1000. The fitness of  the new solutions and of the F1 population are as follows:"
   ]
  },
  {
   "cell_type": "code",
   "execution_count": 6,
   "metadata": {},
   "outputs": [
    {
     "name": "stdout",
     "output_type": "stream",
     "text": [
      "Fitness of 0111 is -33 and fitness of 1000 is 30\n",
      "Fitness of F0 generation is: -25.\n",
      "Fitness of F1 generation is: 35.\n"
     ]
    }
   ],
   "source": [
    "def population_fitness(population):\n",
    "    \"\"\"\n",
    "    This function pulls fitness values for a population (using a previously defined fitness function)\n",
    "\n",
    "    Parameters\n",
    "    ----------\n",
    "    population : list (or array) of binary strings\n",
    "    Encodings of current population\n",
    "\n",
    "    Returns\n",
    "    -------\n",
    "    population_fitness : int\n",
    "    Total fitness of population\n",
    "    \"\"\"\n",
    "    fitnesses = []\n",
    "    for individual in population:\n",
    "        new_fitness_values = Fitness_key.get(individual)\n",
    "        fitnesses.append(int(new_fitness_values))\n",
    "\n",
    "    sum = 0\n",
    "    for i in fitnesses:\n",
    "        sum += i\n",
    "\n",
    "    return sum\n",
    "\n",
    "print(f'Fitness of 0111 is {fitness(\"0111\")} and fitness of 1000 is {fitness(\"1000\")}')\n",
    "print(f'Fitness of F0 generation is: {population_fitness(F0_population)}.')\n",
    "print(f'Fitness of F1 generation is: {population_fitness(F1_population)}.')\n"
   ]
  },
  {
   "cell_type": "markdown",
   "metadata": {},
   "source": [
    "Yes, fitness has increased from F0 to F1."
   ]
  },
  {
   "cell_type": "markdown",
   "metadata": {},
   "source": [
    "### 1d"
   ]
  },
  {
   "cell_type": "code",
   "execution_count": 7,
   "metadata": {},
   "outputs": [
    {
     "name": "stdout",
     "output_type": "stream",
     "text": [
      "Fitness of F1 generation is: 35.\n",
      "Fitness of mutated F1 population is: -28\n"
     ]
    }
   ],
   "source": [
    "F1_population = Pair1_offspring + Pair2_offspring + Pair3_offspring\n",
    "\n",
    "# mutate 3rd element\n",
    "mutated_F1_population = []\n",
    "for individual in F1_population:\n",
    "    third_element = individual[2]\n",
    "\n",
    "    if third_element == \"0\":\n",
    "        mutated_element = \"1\"\n",
    "    if third_element == \"1\":\n",
    "        mutated_element = \"0\"\n",
    "\n",
    "    mutated_individual = individual[0:2] + mutated_element + individual[3:]\n",
    "    mutated_F1_population.append(mutated_individual)\n",
    "\n",
    "\n",
    "print(f'Fitness of F1 generation is: {population_fitness(F1_population)}.')\n",
    "print(f'Fitness of mutated F1 population is: {population_fitness(mutated_F1_population)}')"
   ]
  },
  {
   "cell_type": "markdown",
   "metadata": {},
   "source": [
    "Fitness has not increased in the mutated F1 population.\n",
    "\n",
    "Compared to the F1 population, there are new solutions in the mutated F1 population: 1010, 0001, 1110, 1001. Their fitnesses are as follows."
   ]
  },
  {
   "cell_type": "code",
   "execution_count": 8,
   "metadata": {},
   "outputs": [
    {
     "name": "stdout",
     "output_type": "stream",
     "text": [
      "22\n",
      "30\n",
      "-69\n",
      "27\n"
     ]
    }
   ],
   "source": [
    "print(fitness('1010'))\n",
    "print(fitness('0001'))\n",
    "print(fitness('1110'))\n",
    "print(fitness('1001'))"
   ]
  },
  {
   "cell_type": "markdown",
   "metadata": {},
   "source": [
    "No, this mutation has not increased fitness in the population."
   ]
  },
  {
   "cell_type": "markdown",
   "metadata": {},
   "source": [
    "### 1e"
   ]
  },
  {
   "cell_type": "code",
   "execution_count": 9,
   "metadata": {},
   "outputs": [],
   "source": [
    "#print(f'Mutated F1 {mutated_F1_population}.')\n",
    "\n",
    "def natural_selection(population):\n",
    "    \"\"\"\n",
    "    This function eliminates the least fit member of the population and clones the fittest member.\n",
    "\n",
    "    Parameters\n",
    "    ----------\n",
    "    population : list\n",
    "    list of solutions\n",
    "\n",
    "    Returns\n",
    "    -------\n",
    "    mutated population : list\n",
    "    list of mutated solutions\n",
    "    \"\"\"\n",
    "    fittest_individual = max(population, key=fitness)\n",
    "    least_fit_individual = min(population, key=fitness)\n",
    "\n",
    "    # replace index of least fit with fittest\n",
    "    population[population.index(least_fit_individual)] = fittest_individual\n",
    "\n",
    "    return population\n",
    "\n",
    "#print(natural_selection(mutated_F1_population))"
   ]
  },
  {
   "cell_type": "code",
   "execution_count": 10,
   "metadata": {},
   "outputs": [
    {
     "name": "stdout",
     "output_type": "stream",
     "text": [
      "F2 solutions are: ['0011', '1100', '0001', '0111', '1000', '1111']\n"
     ]
    }
   ],
   "source": [
    "def two_point_crossover(a,b):\n",
    "    \"\"\"\n",
    "    This function performs a 2-point crossover. It exchanges the middle two elements of two strings.\n",
    "    \"\"\"\n",
    "    offspring1 = a[0] + b[1:3] + a[3]\n",
    "    offspring2 = b[0] + a[1:3] + b[3]\n",
    "\n",
    "    return [offspring1, offspring2]\n",
    "\n",
    "print('F2 solutions are:', two_point_crossover(mutated_F1_population[0], mutated_F1_population[1])\n",
    "                                                + two_point_crossover(mutated_F1_population[2], mutated_F1_population[3]) \n",
    "                                                +two_point_crossover(mutated_F1_population[4], mutated_F1_population[5]))"
   ]
  },
  {
   "cell_type": "markdown",
   "metadata": {},
   "source": [
    "New solutions from the two-point crossover are 0011,  1100, 1000, 1111"
   ]
  },
  {
   "cell_type": "code",
   "execution_count": 11,
   "metadata": {},
   "outputs": [
    {
     "name": "stdout",
     "output_type": "stream",
     "text": [
      "Popuation fitness of F2 solutions is: -35\n",
      "Individual fitnesses:\n",
      "22\n",
      "6\n",
      "30\n",
      "-90\n"
     ]
    }
   ],
   "source": [
    "F2_population = ['0011', '1100', '0001', '0111', '1000', '1111']\n",
    "\n",
    "print('Popuation fitness of F2 solutions is:', population_fitness(F2_population))\n",
    "print('Individual fitnesses:')\n",
    "print(fitness('0011'))\n",
    "print(fitness('1100'))\n",
    "print(fitness('1000'))\n",
    "print(fitness('1111'))"
   ]
  },
  {
   "cell_type": "markdown",
   "metadata": {},
   "source": [
    "No, the two point crossover has not increased fitness in the population."
   ]
  },
  {
   "cell_type": "markdown",
   "metadata": {},
   "source": [
    "### 1f"
   ]
  },
  {
   "cell_type": "code",
   "execution_count": 12,
   "metadata": {},
   "outputs": [
    {
     "name": "stdout",
     "output_type": "stream",
     "text": [
      "Mutated F2 population is ['1101', '0010', '0110', '0011', '0010', '1000'].\n"
     ]
    }
   ],
   "source": [
    "natural_selection(F2_population)\n",
    "\n",
    "def crossover_3_4_switch_3(a,b):\n",
    "    \"\"\"\n",
    "    This function does a cross over between 3rd and 4th elements then exchanges first 3 elements.\n",
    "    \"\"\"\n",
    "    middle1 = a[0:2] + a[3] + a[2]\n",
    "    middle2 = b[0:2] + b[3] + b[2]\n",
    "\n",
    "    offspring1 = middle2[0:3] + middle1[3]\n",
    "    offspring2 = middle1[0:3] + middle2[3]\n",
    "\n",
    "    return [offspring1, offspring2]\n",
    "\n",
    "mutated_F2_population = (crossover_3_4_switch_3(F2_population[0], F2_population[1]) \n",
    "                         + crossover_3_4_switch_3(F2_population[2], F2_population[3]) \n",
    "                         + crossover_3_4_switch_3(F2_population[4], F2_population[5]))\n",
    "\n",
    "print(f'Mutated F2 population is {mutated_F2_population}.')"
   ]
  },
  {
   "cell_type": "markdown",
   "metadata": {},
   "source": [
    "New solutions are 1101, 0010, and 0110. Below are their fitness values:\n"
   ]
  },
  {
   "cell_type": "code",
   "execution_count": 13,
   "metadata": {},
   "outputs": [
    {
     "name": "stdout",
     "output_type": "stream",
     "text": [
      "-50\n",
      "31\n",
      "-18\n"
     ]
    },
    {
     "data": {
      "text/plain": [
       "46"
      ]
     },
     "execution_count": 13,
     "metadata": {},
     "output_type": "execute_result"
    }
   ],
   "source": [
    "print(fitness('1101'))\n",
    "print(fitness('0010'))\n",
    "print(fitness('0110'))\n",
    "\n",
    "population_fitness(mutated_F2_population)"
   ]
  },
  {
   "cell_type": "markdown",
   "metadata": {},
   "source": [
    "Yes, this cross has increased fitness in the population."
   ]
  },
  {
   "cell_type": "markdown",
   "metadata": {},
   "source": [
    "### 1g"
   ]
  },
  {
   "cell_type": "markdown",
   "metadata": {},
   "source": [
    "no, I don't think the solution space was adequate for maximizing this function. There are only 16 solutions so crossovers ended up being repetitive and not yielding many new reesults. We could increase this number by making the encodings (for example) 5 digits instead of 4. With more possible solutions, we are more likely to find a better maximum."
   ]
  },
  {
   "cell_type": "markdown",
   "metadata": {},
   "source": [
    "## 2. Artificial Neural Networks"
   ]
  },
  {
   "cell_type": "code",
   "execution_count": 14,
   "metadata": {},
   "outputs": [
    {
     "name": "stdout",
     "output_type": "stream",
     "text": [
      "[0.6016075 0.669866 ]\n"
     ]
    }
   ],
   "source": [
    "class NeuralNetwork:\n",
    "    def __init__(self, input_neurons, hidden_layer, output_neurons):\n",
    "        # initialize weights\n",
    "        np.random.seed(0)\n",
    "        self.weights_ih = np.random.rand(input_neurons, hidden_layer)\n",
    "        self.bias_h = np.random.rand()\n",
    "        \n",
    "        self.weights_ho = np.random.rand(hidden_layer, output_neurons)\n",
    "        self.bias_o = np.random.rand()\n",
    "\n",
    "\n",
    "    def feed_forward(self, x):\n",
    "        hidden = np.tanh(np.dot(x, self.weights_ih) + self.bias_h)\n",
    "        output = np.tanh(np.dot(hidden, self.weights_ho) + self.bias_o)\n",
    "\n",
    "        return output\n",
    "    \n",
    "    def backprop(self, x, output, alpha):\n",
    "        hidden = np.tanh(np.dot(x, self.weights_ih) + self.bias_h)\n",
    "        z = hidden * self.weights_ho + self.bias_h\n",
    "        observed_output = np.array([-1, -1])\n",
    "        theta21_output = output[0]\n",
    "        theta22_output = output[1]\n",
    "\n",
    "        delta_n21 = (theta21_output - observed_output[0]) * (1- np.tanh(theta21_output)**2)\n",
    "        delta_n22 = (theta22_output - observed_output[1]) * (1- np.tanh(theta22_output)**2)\n",
    "\n",
    "        self.weights_ho = self.weights_ho - alpha * self.weights_ho * 1 - np.tanh(z)**2 * (np.tanh(z) - output)\n",
    "        self.bias_h = self.bias_h - alpha * 1 - np.tanh(z)**2 * (np.tanh(z) - output)\n",
    "\n",
    "        return np.array([delta_n21, delta_n22])\n",
    "\n",
    "network = NeuralNetwork(6,2,2)\n",
    "input = np.array([-1, 1, -1, -1, 1, -1])\n",
    "\n",
    "\n",
    "model_output = network.feed_forward(input)\n",
    "print(model_output)\n"
   ]
  },
  {
   "cell_type": "code",
   "execution_count": 15,
   "metadata": {},
   "outputs": [
    {
     "data": {
      "text/plain": [
       "array([1.13770012, 1.09860762])"
      ]
     },
     "execution_count": 15,
     "metadata": {},
     "output_type": "execute_result"
    }
   ],
   "source": [
    "network.backprop(input, model_output, 0.01)"
   ]
  },
  {
   "cell_type": "markdown",
   "metadata": {},
   "source": [
    "# answer can be found in ../Tutorials/Tutorial-6.ipynb"
   ]
  },
  {
   "cell_type": "markdown",
   "metadata": {},
   "source": []
  }
 ],
 "metadata": {
  "kernelspec": {
   "display_name": "Python 3 (ipykernel)",
   "language": "python",
   "name": "python3"
  },
  "language_info": {
   "codemirror_mode": {
    "name": "ipython",
    "version": 3
   },
   "file_extension": ".py",
   "mimetype": "text/x-python",
   "name": "python",
   "nbconvert_exporter": "python",
   "pygments_lexer": "ipython3",
   "version": "3.11.5"
  }
 },
 "nbformat": 4,
 "nbformat_minor": 4
}
